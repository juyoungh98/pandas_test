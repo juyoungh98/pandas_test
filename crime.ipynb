{
 "cells": [
  {
   "attachments": {},
   "cell_type": "markdown",
   "metadata": {},
   "source": [
    "# Data Analysis: Pandas DataFrame 개요\n",
    "API Reference: https://pandas.pydata.org/docs/reference/frame.html"
   ]
  },
  {
   "attachments": {},
   "cell_type": "markdown",
   "metadata": {},
   "source": [
    "## 1. 라이브러리 및 파일 연결"
   ]
  },
  {
   "cell_type": "code",
   "execution_count": 5,
   "metadata": {},
   "outputs": [],
   "source": [
    "# 라이브러리 연결\n",
    "import numpy as np\n",
    "import pandas as pd\n",
    "import seaborn as sns\n",
    "import matplotlib.pyplot as plt\n",
    "\n",
    "# 파일(csv, etc.) 연결\n",
    "file_path = 'C:/Users/pc/Desktop/새 폴더/경찰청_전국 범죄 발생 및 검거 현황_20211231.csv'\n",
    "df = pd.read_csv(file_path, encoding='cp949')\n",
    "\n",
    "# See also:\n",
    "# pandas.DataFrame.from_records\n",
    "# pandas.DataFrame.from_dict\n",
    "# pandas.read_table\n",
    "# pandas.read_clipboard"
   ]
  },
  {
   "attachments": {},
   "cell_type": "markdown",
   "metadata": {},
   "source": [
    "## 2. Pandas로 불러온 데이터의 정보 확인"
   ]
  },
  {
   "attachments": {},
   "cell_type": "markdown",
   "metadata": {},
   "source": [
    "### 1) pandas.DataFrame.info([verbose, buf, max_cols, ...])\n",
    "Print a concise summary of a DataFrame. <br/>\n",
    "https://pandas.pydata.org/docs/reference/api/pandas.DataFrame.info.html#pandas.DataFrame.info\n"
   ]
  },
  {
   "cell_type": "code",
   "execution_count": 32,
   "metadata": {},
   "outputs": [
    {
     "name": "stdout",
     "output_type": "stream",
     "text": [
      "<class 'pandas.core.frame.DataFrame'>\n",
      "RangeIndex: 473 entries, 0 to 472\n",
      "Data columns (total 9 columns):\n",
      " #   Column   Non-Null Count  Dtype \n",
      "---  ------   --------------  ----- \n",
      " 0   범죄대분류    473 non-null    object\n",
      " 1   범죄중분류    473 non-null    object\n",
      " 2   범죄소분류    473 non-null    object\n",
      " 3   발생       473 non-null    int64 \n",
      " 4   검거       473 non-null    int64 \n",
      " 5   검거인원(남)  473 non-null    int64 \n",
      " 6   검거인원(여)  473 non-null    int64 \n",
      " 7   불상       473 non-null    int64 \n",
      " 8   법인체      473 non-null    int64 \n",
      "dtypes: int64(6), object(3)\n",
      "memory usage: 33.4+ KB\n"
     ]
    }
   ],
   "source": [
    "df.info()"
   ]
  },
  {
   "attachments": {},
   "cell_type": "markdown",
   "metadata": {},
   "source": [
    "### 2) pandas.DataFrame.columns\n",
    "The column labels of the DataFrame.\n"
   ]
  },
  {
   "cell_type": "code",
   "execution_count": 33,
   "metadata": {},
   "outputs": [
    {
     "data": {
      "text/plain": [
       "Index(['범죄대분류', '범죄중분류', '범죄소분류', '발생', '검거', '검거인원(남)', '검거인원(여)', '불상',\n",
       "       '법인체'],\n",
       "      dtype='object')"
      ]
     },
     "execution_count": 33,
     "metadata": {},
     "output_type": "execute_result"
    }
   ],
   "source": [
    "df.columns"
   ]
  },
  {
   "attachments": {},
   "cell_type": "markdown",
   "metadata": {},
   "source": [
    "### 3) pandas.DataFrame.head([n])\n",
    "Return the first n rows.\n"
   ]
  },
  {
   "cell_type": "code",
   "execution_count": 38,
   "metadata": {},
   "outputs": [
    {
     "data": {
      "text/html": [
       "<div>\n",
       "<style scoped>\n",
       "    .dataframe tbody tr th:only-of-type {\n",
       "        vertical-align: middle;\n",
       "    }\n",
       "\n",
       "    .dataframe tbody tr th {\n",
       "        vertical-align: top;\n",
       "    }\n",
       "\n",
       "    .dataframe thead th {\n",
       "        text-align: right;\n",
       "    }\n",
       "</style>\n",
       "<table border=\"1\" class=\"dataframe\">\n",
       "  <thead>\n",
       "    <tr style=\"text-align: right;\">\n",
       "      <th></th>\n",
       "      <th>범죄대분류</th>\n",
       "      <th>범죄중분류</th>\n",
       "      <th>범죄소분류</th>\n",
       "      <th>발생</th>\n",
       "      <th>검거</th>\n",
       "      <th>검거인원(남)</th>\n",
       "      <th>검거인원(여)</th>\n",
       "      <th>불상</th>\n",
       "      <th>법인체</th>\n",
       "    </tr>\n",
       "  </thead>\n",
       "  <tbody>\n",
       "    <tr>\n",
       "      <th>0</th>\n",
       "      <td>강력범죄</td>\n",
       "      <td>살인기수</td>\n",
       "      <td>살인</td>\n",
       "      <td>204</td>\n",
       "      <td>196</td>\n",
       "      <td>187</td>\n",
       "      <td>54</td>\n",
       "      <td>4</td>\n",
       "      <td>1</td>\n",
       "    </tr>\n",
       "    <tr>\n",
       "      <th>1</th>\n",
       "      <td>강력범죄</td>\n",
       "      <td>살인기수</td>\n",
       "      <td>영아살해</td>\n",
       "      <td>5</td>\n",
       "      <td>5</td>\n",
       "      <td>0</td>\n",
       "      <td>5</td>\n",
       "      <td>0</td>\n",
       "      <td>0</td>\n",
       "    </tr>\n",
       "    <tr>\n",
       "      <th>2</th>\n",
       "      <td>강력범죄</td>\n",
       "      <td>살인기수</td>\n",
       "      <td>존속살해</td>\n",
       "      <td>26</td>\n",
       "      <td>27</td>\n",
       "      <td>24</td>\n",
       "      <td>3</td>\n",
       "      <td>0</td>\n",
       "      <td>0</td>\n",
       "    </tr>\n",
       "  </tbody>\n",
       "</table>\n",
       "</div>"
      ],
      "text/plain": [
       "  범죄대분류 범죄중분류 범죄소분류   발생   검거  검거인원(남)  검거인원(여)  불상  법인체\n",
       "0  강력범죄  살인기수    살인  204  196      187       54   4    1\n",
       "1  강력범죄  살인기수  영아살해    5    5        0        5   0    0\n",
       "2  강력범죄  살인기수  존속살해   26   27       24        3   0    0"
      ]
     },
     "execution_count": 38,
     "metadata": {},
     "output_type": "execute_result"
    }
   ],
   "source": [
    "df.head(3)"
   ]
  },
  {
   "attachments": {},
   "cell_type": "markdown",
   "metadata": {},
   "source": [
    "### 4) pandas.DataFrame.shape\n",
    "Return a tuple representing the dimensionality of the DataFrame."
   ]
  },
  {
   "cell_type": "code",
   "execution_count": 36,
   "metadata": {},
   "outputs": [
    {
     "data": {
      "text/plain": [
       "(473, 9)"
      ]
     },
     "execution_count": 36,
     "metadata": {},
     "output_type": "execute_result"
    }
   ],
   "source": [
    "df.shape"
   ]
  },
  {
   "attachments": {},
   "cell_type": "markdown",
   "metadata": {},
   "source": [
    "### 5) pandas.DataFrame.describe\n",
    "Generate descriptive stats: count, mean, std, etc.\n",
    "https://pandas.pydata.org/docs/reference/api/pandas.DataFrame.describe.html#pandas.DataFrame.describe"
   ]
  },
  {
   "cell_type": "code",
   "execution_count": 31,
   "metadata": {},
   "outputs": [
    {
     "name": "stdout",
     "output_type": "stream",
     "text": [
      "                  발생             검거        검거인원(남)       검거인원(여)  \\\n",
      "count     473.000000     473.000000     473.000000    473.000000   \n",
      "mean     3022.887949    2403.097252    2119.196617    589.482030   \n",
      "std     17450.528095   13094.894755   10635.876358   3021.523538   \n",
      "min         0.000000       0.000000       0.000000      0.000000   \n",
      "25%         4.000000       3.000000       4.000000      0.000000   \n",
      "50%        70.000000      57.000000      66.000000      7.000000   \n",
      "75%       677.000000     523.000000     513.000000     89.000000   \n",
      "max    269825.000000  170980.000000  125221.000000  38280.000000   \n",
      "\n",
      "                 불상          법인체  \n",
      "count    473.000000   473.000000  \n",
      "mean     167.441860    21.811839  \n",
      "std     2029.422668   117.143095  \n",
      "min        0.000000     0.000000  \n",
      "25%        0.000000     0.000000  \n",
      "50%        0.000000     0.000000  \n",
      "75%       11.000000     2.000000  \n",
      "max    43082.000000  1539.000000  \n"
     ]
    }
   ],
   "source": [
    "df.describe()"
   ]
  },
  {
   "attachments": {},
   "cell_type": "markdown",
   "metadata": {},
   "source": [
    "### 6) pandas.DataFrame.value_counts\n",
    "Return a <u>Series</u> containing counts of unique rows in the DataFrame. </br>\n",
    "https://pandas.pydata.org/docs/reference/api/pandas.DataFrame.value_counts.html#pandas.DataFrame.value_counts\n",
    "*** What is a Series in Pandas? </br>\n",
    "A pandas Series is a one-dimensional array. It holds any data type supported in Python and uses labels to locate each data value for retrieval.\n"
   ]
  },
  {
   "cell_type": "code",
   "execution_count": 10,
   "metadata": {},
   "outputs": [],
   "source": [
    "# df.columns --> select from the DataFrame a column that needs analysis on unique counts\n",
    "df_val = df.value_counts('범죄대분류')"
   ]
  },
  {
   "cell_type": "markdown",
   "metadata": {},
   "source": []
  },
  {
   "cell_type": "code",
   "execution_count": null,
   "metadata": {},
   "outputs": [],
   "source": []
  }
 ],
 "metadata": {
  "kernelspec": {
   "display_name": "Python 3",
   "language": "python",
   "name": "python3"
  },
  "language_info": {
   "codemirror_mode": {
    "name": "ipython",
    "version": 3
   },
   "file_extension": ".py",
   "mimetype": "text/x-python",
   "name": "python",
   "nbconvert_exporter": "python",
   "pygments_lexer": "ipython3",
   "version": "3.9.13"
  },
  "orig_nbformat": 4,
  "vscode": {
   "interpreter": {
    "hash": "66ad2a0fc99eef4a3bf89b375e9b9756c86124817c17e26a015d4a0d647e591d"
   }
  }
 },
 "nbformat": 4,
 "nbformat_minor": 2
}
